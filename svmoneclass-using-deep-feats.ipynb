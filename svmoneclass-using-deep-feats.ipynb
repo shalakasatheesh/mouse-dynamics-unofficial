{
 "cells": [
  {
   "cell_type": "code",
   "execution_count": 1,
   "metadata": {},
   "outputs": [
    {
     "name": "stderr",
     "output_type": "stream",
     "text": [
      "/usr/lib/python3/dist-packages/requests/__init__.py:89: RequestsDependencyWarning: urllib3 (1.26.9) or chardet (3.0.4) doesn't match a supported version!\n",
      "  warnings.warn(\"urllib3 ({}) or chardet ({}) doesn't match a supported \"\n"
     ]
    }
   ],
   "source": [
    "from time import time\n",
    "from move_dataset import MoveDataset\n",
    "import argparse\n",
    "from keras_fcn import build_fcn\n",
    "from sklearn.model_selection import train_test_split\n",
    "from sklearn import preprocessing\n",
    "import numpy as np\n",
    "import pandas as pd\n",
    "import tensorflow as tf\n",
    "from tensorflow.python.keras.callbacks import TensorBoard\n",
    "import torch\n",
    "import matplotlib.pyplot as plt\n",
    "import seaborn as sns"
   ]
  },
  {
   "cell_type": "code",
   "execution_count": 2,
   "metadata": {},
   "outputs": [],
   "source": [
    "dataset = MoveDataset(pickle_file='move_data.pkl')"
   ]
  },
  {
   "cell_type": "code",
   "execution_count": 3,
   "metadata": {},
   "outputs": [],
   "source": [
    "model = tf.keras.models.load_model('model.h5')"
   ]
  },
  {
   "cell_type": "code",
   "execution_count": 4,
   "metadata": {},
   "outputs": [
    {
     "name": "stdout",
     "output_type": "stream",
     "text": [
      "Model: \"model\"\n",
      "_________________________________________________________________\n",
      "Layer (type)                 Output Shape              Param #   \n",
      "=================================================================\n",
      "input_1 (InputLayer)         [(None, 128, 2)]          0         \n",
      "_________________________________________________________________\n",
      "conv1d (Conv1D)              (None, 128, 128)          2176      \n",
      "_________________________________________________________________\n",
      "batch_normalization (BatchNo (None, 128, 128)          512       \n",
      "_________________________________________________________________\n",
      "activation (Activation)      (None, 128, 128)          0         \n",
      "_________________________________________________________________\n",
      "conv1d_1 (Conv1D)            (None, 128, 256)          164096    \n",
      "_________________________________________________________________\n",
      "batch_normalization_1 (Batch (None, 128, 256)          1024      \n",
      "_________________________________________________________________\n",
      "activation_1 (Activation)    (None, 128, 256)          0         \n",
      "_________________________________________________________________\n",
      "conv1d_2 (Conv1D)            (None, 128, 128)          98432     \n",
      "_________________________________________________________________\n",
      "batch_normalization_2 (Batch (None, 128, 128)          512       \n",
      "_________________________________________________________________\n",
      "activation_2 (Activation)    (None, 128, 128)          0         \n",
      "_________________________________________________________________\n",
      "global_average_pooling1d (Gl (None, 128)               0         \n",
      "_________________________________________________________________\n",
      "dense (Dense)                (None, 130)               16770     \n",
      "=================================================================\n",
      "Total params: 283,522\n",
      "Trainable params: 282,498\n",
      "Non-trainable params: 1,024\n",
      "_________________________________________________________________\n"
     ]
    }
   ],
   "source": [
    "model.summary()"
   ]
  },
  {
   "cell_type": "code",
   "execution_count": 5,
   "metadata": {},
   "outputs": [],
   "source": [
    "import argparse\n",
    "from move_dataset import MoveDataset\n",
    "from sklearn.model_selection import train_test_split\n",
    "from sklearn import preprocessing\n",
    "import tensorflow as tf\n",
    "from keras_utils import get_model_output_features, truncate_model\n",
    "from sklearn.svm import OneClassSVM\n",
    "from sklearn import metrics\n",
    "import numpy as np\n",
    "from random import uniform\n",
    "import pandas as pd\n",
    "\n",
    "dataset = MoveDataset(pickle_file='move_data.pkl')\n",
    "\n",
    "X, y_onehot = dataset.train_data()\n",
    "X = preprocessing.StandardScaler().fit_transform(X.reshape(-1, 256)).reshape(-1, 128, 2)\n",
    "\n",
    "# One hot vector to single value vector\n",
    "y = np.argmax(y_onehot, axis=1)\n",
    "\n",
    "# Source: https://github.com/margitantal68/sapimouse/blob/40b5ea6cf10c6f1d64b9dd0427d21138cc4f75e2/util/oneclass.py#L40\n",
    "def compute_AUC_EER(positive_scores, negative_scores):\n",
    "    zeros = np.zeros(len(negative_scores))\n",
    "    ones = np.ones(len(positive_scores))\n",
    "    y = np.concatenate((zeros, ones))\n",
    "    scores = np.concatenate((negative_scores, positive_scores))\n",
    "    fpr, tpr, _ = metrics.roc_curve(y, scores, pos_label=1)\n",
    "    roc_auc = metrics.auc(fpr, tpr)\n",
    "    fnr = 1 - tpr\n",
    "    EER_fpr = fpr[np.argmin(np.absolute((fnr - fpr)))]\n",
    "    EER_fnr = fnr[np.argmin(np.absolute((fnr - fpr)))]\n",
    "    EER = 0.5 * (EER_fpr + EER_fnr)\n",
    "    return roc_auc, EER, fpr, tpr\n",
    "\n",
    "# Source: https://github.com/margitantal68/sapimouse/blob/40b5ea6cf10c6f1d64b9dd0427d21138cc4f75e2/util/oneclass.py#L138\n",
    "def score_normalization(positive_scores, negative_scores):\n",
    "    scores = [positive_scores, negative_scores]\n",
    "    scores_df = pd.DataFrame(scores)\n",
    "\n",
    "    mean = scores_df.mean()\n",
    "    std = scores_df.std()\n",
    "    min_score = mean - 2 * std\n",
    "    max_score = mean + 2 * std\n",
    "\n",
    "    min_score = min_score[0]\n",
    "    max_score = max_score[0]\n",
    "\n",
    "    positive_scores = [(x - min_score) / (max_score - min_score) for x in positive_scores]\n",
    "    positive_scores = [(uniform(0.0, 0.05) if x < 0 else x) for x in positive_scores]\n",
    "    positive_scores = [(uniform(0.95, 1.0) if x > 1 else x) for x in positive_scores]\n",
    "\n",
    "    negative_scores = [(x - min_score) / (max_score - min_score) for x in negative_scores]\n",
    "    negative_scores = [uniform(0.0, 0.05) if x < 0 else x for x in negative_scores]\n",
    "    negative_scores = [uniform(0.95, 1.0) if x > 1 else x for x in negative_scores]\n",
    "    return positive_scores, negative_scores    "
   ]
  },
  {
   "cell_type": "code",
   "execution_count": 6,
   "metadata": {},
   "outputs": [
    {
     "name": "stdout",
     "output_type": "stream",
     "text": [
      "for user 0 : auc: 0.7780575212906629 eer: 0.2986887336886468\n",
      "for user 1 : auc: 1.0 eer: 0.0\n",
      "for user 2 : auc: 0.9379216593666517 eer: 0.13039177369828844\n",
      "for user 3 : auc: 0.8835291161814586 eer: 0.15849789520095964\n",
      "for user 4 : auc: 0.8655043943173129 eer: 0.1940890299092309\n",
      "for user 5 : auc: 0.8833703844276961 eer: 0.1962467010235181\n",
      "for user 6 : auc: 0.9601628564712918 eer: 0.08940851413541873\n",
      "for user 7 : auc: 0.8671131976847957 eer: 0.16039339988270992\n",
      "for user 8 : auc: 0.9478379815845567 eer: 0.13598693442303567\n",
      "for user 9 : auc: 0.9861326683956363 eer: 0.0482558957288199\n"
     ]
    }
   ],
   "source": [
    "model = truncate_model(model)\n",
    "\n",
    "user_stats = {}\n",
    "auc_list = []\n",
    "eer_list = []\n",
    "global_positive_scores = list()\n",
    "global_negative_scores = list()\n",
    "\n",
    "# Computer scores for first 10 users\n",
    "for userid in range(10):\n",
    "    if np.count_nonzero(y == userid) == 0:\n",
    "        continue\n",
    "    X_positive = X[y == userid]\n",
    "    X_negative = X[y != userid]\n",
    "\n",
    "    # Extract new features from dx, dy vectors\n",
    "    X_positive_features = get_model_output_features(model, X_positive)\n",
    "    X_negative_features = get_model_output_features(model, X_negative)\n",
    "\n",
    "    clf = OneClassSVM(gamma='scale')\n",
    "    clf.fit(X_positive_features)\n",
    "    \n",
    "    positive_scores = clf.score_samples(X_positive_features)\n",
    "    negative_scores = clf.score_samples(X_negative_features)\n",
    "\n",
    "    auc, eer, _, _ = compute_AUC_EER(positive_scores, negative_scores)\n",
    "\n",
    "    positive_scores, negative_scores = score_normalization(positive_scores, negative_scores)\n",
    "    print('for user', userid, ': auc:', auc, 'eer:', eer)\n",
    "    auc_list.append(auc)\n",
    "    eer_list.append(eer)\n",
    "    user_stats[userid] = (auc, eer)\n",
    "    global_positive_scores.extend(positive_scores)\n",
    "    global_negative_scores.extend(negative_scores)\n",
    "#     print(positive_scores, negative_scores)\n",
    "\n",
    "global_auc, global_eer, fpr, tpr = compute_AUC_EER(global_positive_scores, global_negative_scores)"
   ]
  },
  {
   "cell_type": "code",
   "execution_count": 13,
   "metadata": {},
   "outputs": [
    {
     "name": "stdout",
     "output_type": "stream",
     "text": [
      "0.8696777275343095 0.1871071462497203\n"
     ]
    }
   ],
   "source": [
    "# To do: How to report performance? \n",
    "#       option1: Take mean of auc and eer genereated for each user?\n",
    "#       option2: compute from global positive scores and global negative scores\n",
    "print(global_auc, global_eer, )\n",
    "# print(fpr)\n",
    "# print(tpr)"
   ]
  },
  {
   "cell_type": "code",
   "execution_count": 16,
   "metadata": {},
   "outputs": [
    {
     "name": "stderr",
     "output_type": "stream",
     "text": [
      "/home/shalaka/.local/lib/python3.8/site-packages/seaborn/distributions.py:2557: FutureWarning: `distplot` is a deprecated function and will be removed in a future version. Please adapt your code to use either `displot` (a figure-level function with similar flexibility) or `histplot` (an axes-level function for histograms).\n",
      "  warnings.warn(msg, FutureWarning)\n",
      "/home/shalaka/.local/lib/python3.8/site-packages/seaborn/distributions.py:2557: FutureWarning: `distplot` is a deprecated function and will be removed in a future version. Please adapt your code to use either `displot` (a figure-level function with similar flexibility) or `histplot` (an axes-level function for histograms).\n",
      "  warnings.warn(msg, FutureWarning)\n"
     ]
    },
    {
     "data": {
      "image/png": "[encoded data removed]",
      "text/plain": [
       "<Figure size 432x288 with 1 Axes>"
      ]
     },
     "metadata": {
      "needs_background": "light"
     },
     "output_type": "display_data"
    }
   ],
   "source": [
    "# Source: https://github.com/margitantal68/sapimouse/blob/40b5ea6cf10c6f1d64b9dd0427d21138cc4f75e2/util/plot.py#L15\n",
    "df = pd.DataFrame([global_positive_scores, global_negative_scores])\n",
    "BINS = np.linspace(df.min(), df.max(), 31)\n",
    "sns.distplot(global_positive_scores, norm_hist=True, color='green', bins=31)\n",
    "sns.distplot(global_negative_scores, norm_hist=True, color='red', bins=31)\n",
    "plt.legend(['Genuine', 'Impostor'], loc='best')\n",
    "plt.xlabel('Score')\n",
    "plt.title('Global scores distribution')\n",
    "plt.grid()\n",
    "plt.show()"
   ]
  },
  {
   "cell_type": "code",
   "execution_count": 17,
   "metadata": {},
   "outputs": [
    {
     "name": "stderr",
     "output_type": "stream",
     "text": [
      "/home/shalaka/.local/lib/python3.8/site-packages/seaborn/distributions.py:2557: FutureWarning: `distplot` is a deprecated function and will be removed in a future version. Please adapt your code to use either `displot` (a figure-level function with similar flexibility) or `histplot` (an axes-level function for histograms).\n",
      "  warnings.warn(msg, FutureWarning)\n",
      "/home/shalaka/.local/lib/python3.8/site-packages/seaborn/distributions.py:2557: FutureWarning: `distplot` is a deprecated function and will be removed in a future version. Please adapt your code to use either `displot` (a figure-level function with similar flexibility) or `histplot` (an axes-level function for histograms).\n",
      "  warnings.warn(msg, FutureWarning)\n"
     ]
    },
    {
     "data": {
      "image/png": "[encoded data removed]",
      "text/plain": [
       "<Figure size 432x288 with 1 Axes>"
      ]
     },
     "metadata": {
      "needs_background": "light"
     },
     "output_type": "display_data"
    }
   ],
   "source": [
    "df = pd.DataFrame([positive_scores, negative_scores])\n",
    "BINS = np.linspace(df.min(), df.max(), 31)\n",
    "sns.distplot(positive_scores, norm_hist=True, color='green', bins=31)\n",
    "sns.distplot(negative_scores, norm_hist=True, color='red', bins=31)\n",
    "plt.legend(['Genuine', 'Impostor'], loc='best')\n",
    "plt.xlabel('Score')\n",
    "plt.title('Scores distribution for user '+str(userid))\n",
    "plt.grid()\n",
    "plt.show()"
   ]
  },
  {
   "cell_type": "code",
   "execution_count": 8,
   "metadata": {},
   "outputs": [],
   "source": [
    "# TODO: sample scores randomly\n",
    "\n",
    "# plt.hist(positive_scores, alpha=0.5, color='green', label='positive')\n",
    "# plt.hist(negative_scores[:len(positive_scores)],  color='red', alpha=0.5, label='negative')\n",
    "# plt.legend()\n",
    "# plt.xlabel('Score')\n",
    "# plt.ylabel('Density')\n",
    "# plt.show()"
   ]
  },
  {
   "cell_type": "code",
   "execution_count": 17,
   "metadata": {},
   "outputs": [
    {
     "data": {
      "image/png": "[encoded data removed]",
      "text/plain": [
       "<Figure size 432x288 with 1 Axes>"
      ]
     },
     "metadata": {
      "needs_background": "light"
     },
     "output_type": "display_data"
    }
   ],
   "source": [
    "blocks = []\n",
    "for userid in range(dataset.unique_user_count()):\n",
    "    blocks.append((X[y == userid]).shape[0])\n",
    "    \n",
    "# print(blocks)\n",
    "\n",
    "plt.hist(blocks)\n",
    "plt.title('Histogram of of no. blocks for users')\n",
    "plt.ylabel('Frequency')\n",
    "plt.xlabel('Number of blocks')\n",
    "plt.show()"
   ]
  },
  {
   "cell_type": "code",
   "execution_count": 18,
   "metadata": {},
   "outputs": [
    {
     "name": "stdout",
     "output_type": "stream",
     "text": [
      "average no. of blocks: 284.0692307692308\n"
     ]
    }
   ],
   "source": [
    "print('average no. of blocks:', np.mean(blocks))"
   ]
  },
  {
   "cell_type": "code",
   "execution_count": null,
   "metadata": {},
   "outputs": [],
   "source": []
  }
 ],
 "metadata": {
  "kernelspec": {
   "display_name": "Python 3",
   "language": "python",
   "name": "python3"
  },
  "language_info": {
   "codemirror_mode": {
    "name": "ipython",
    "version": 3
   },
   "file_extension": ".py",
   "mimetype": "text/x-python",
   "name": "python",
   "nbconvert_exporter": "python",
   "pygments_lexer": "ipython3",
   "version": "3.8.10"
  }
 },
 "nbformat": 4,
 "nbformat_minor": 4
}
