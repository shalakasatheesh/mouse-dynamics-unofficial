{
 "cells": [
  {
   "cell_type": "code",
   "execution_count": 1,
   "metadata": {},
   "outputs": [],
   "source": [
    "import pandas as pd\n",
    "from os import listdir\n",
    "from os.path import isfile, join\n",
    "import glob\n",
    "import re\n",
    "import numpy as np\n",
    "from dateutil import parser\n",
    "import matplotlib.pyplot as plt"
   ]
  },
  {
   "cell_type": "markdown",
   "metadata": {},
   "source": [
    "Path variables"
   ]
  },
  {
   "cell_type": "code",
   "execution_count": 2,
   "metadata": {},
   "outputs": [],
   "source": [
    "path = 'DLRV_Dataset/'\n",
    "action = ['click', 'move', 'scroll']"
   ]
  },
  {
   "cell_type": "code",
   "execution_count": 3,
   "metadata": {},
   "outputs": [],
   "source": [
    "click_files = listdir(path+action[0])\n",
    "move_files = listdir(path+action[1])\n",
    "scroll_files = listdir(path+action[2])"
   ]
  },
  {
   "cell_type": "markdown",
   "metadata": {},
   "source": [
    "### Read all csv files\n",
    "\n",
    "3 actions - click, move, scroll"
   ]
  },
  {
   "cell_type": "code",
   "execution_count": 4,
   "metadata": {},
   "outputs": [],
   "source": [
    "def read_csv(filenames, action):\n",
    "    df = []\n",
    "    for file in filenames:\n",
    "        df.append(pd.read_csv(path+'/'+action+'/'+file, sep=';'))\n",
    "    \n",
    "    df_all = pd.concat(df)\n",
    "    return df_all\n",
    "\n",
    "df_click = read_csv(click_files, 'click')\n",
    "df_move = read_csv(move_files, 'move')\n",
    "df_scroll = read_csv(scroll_files, 'scroll')"
   ]
  },
  {
   "cell_type": "markdown",
   "metadata": {},
   "source": [
    "I guess your question relates to the \"click\" data:\n",
    "\n",
    "global_position: The position of the mouse-pointer at the time of click related to the whole browser-window ([0,0] is in the top-left corner).\n",
    "\n",
    "local_dimensions: The dimension of the HTML-Element that has been clicked\n",
    "\n",
    "local_position: The position of the mouse-pointer at the time of click related to the HTML-Element that has been clicked \n",
    "\n",
    "nodeName: Type of HTML-Element that has been clicked\n",
    "\n",
    "nodeType: Type of HTML-Input-Element  (only for nodeName=INPUT; radio-button, checkbox, textfield)\n",
    "\n",
    "The columns local_position could be used to determine whether a user tends to click a button or a checkbox at a specific position. \n",
    "\n",
    "\n",
    "\n",
    "The move data only contains the position of the mouse-pointer related to the browser-window.\n",
    "\n",
    "The scroll data contains the position of the scrollbar (0 is top)."
   ]
  },
  {
   "cell_type": "code",
   "execution_count": 5,
   "metadata": {},
   "outputs": [
    {
     "data": {
      "text/html": [
       "<div>\n",
       "<style scoped>\n",
       "    .dataframe tbody tr th:only-of-type {\n",
       "        vertical-align: middle;\n",
       "    }\n",
       "\n",
       "    .dataframe tbody tr th {\n",
       "        vertical-align: top;\n",
       "    }\n",
       "\n",
       "    .dataframe thead th {\n",
       "        text-align: right;\n",
       "    }\n",
       "</style>\n",
       "<table border=\"1\" class=\"dataframe\">\n",
       "  <thead>\n",
       "    <tr style=\"text-align: right;\">\n",
       "      <th></th>\n",
       "      <th>Unnamed: 0</th>\n",
       "      <th>time</th>\n",
       "      <th>token</th>\n",
       "      <th>event</th>\n",
       "      <th>position</th>\n",
       "    </tr>\n",
       "  </thead>\n",
       "  <tbody>\n",
       "    <tr>\n",
       "      <th>0</th>\n",
       "      <td>0</td>\n",
       "      <td>2022-01-13 12:43:31.444000+00:00</td>\n",
       "      <td>D+BwNpkU94N2MPcl</td>\n",
       "      <td>scroll</td>\n",
       "      <td>0.0</td>\n",
       "    </tr>\n",
       "    <tr>\n",
       "      <th>1</th>\n",
       "      <td>1</td>\n",
       "      <td>2022-01-13 12:44:38.093000+00:00</td>\n",
       "      <td>D+BwNpkU94N2MPcl</td>\n",
       "      <td>scroll</td>\n",
       "      <td>1.0</td>\n",
       "    </tr>\n",
       "    <tr>\n",
       "      <th>2</th>\n",
       "      <td>2</td>\n",
       "      <td>2022-01-13 12:44:38.109000+00:00</td>\n",
       "      <td>D+BwNpkU94N2MPcl</td>\n",
       "      <td>scroll</td>\n",
       "      <td>6.0</td>\n",
       "    </tr>\n",
       "    <tr>\n",
       "      <th>3</th>\n",
       "      <td>3</td>\n",
       "      <td>2022-01-13 12:44:38.126000+00:00</td>\n",
       "      <td>D+BwNpkU94N2MPcl</td>\n",
       "      <td>scroll</td>\n",
       "      <td>14.0</td>\n",
       "    </tr>\n",
       "    <tr>\n",
       "      <th>4</th>\n",
       "      <td>4</td>\n",
       "      <td>2022-01-13 12:44:38.143000+00:00</td>\n",
       "      <td>D+BwNpkU94N2MPcl</td>\n",
       "      <td>scroll</td>\n",
       "      <td>27.0</td>\n",
       "    </tr>\n",
       "  </tbody>\n",
       "</table>\n",
       "</div>"
      ],
      "text/plain": [
       "   Unnamed: 0                              time             token   event  \\\n",
       "0           0  2022-01-13 12:43:31.444000+00:00  D+BwNpkU94N2MPcl  scroll   \n",
       "1           1  2022-01-13 12:44:38.093000+00:00  D+BwNpkU94N2MPcl  scroll   \n",
       "2           2  2022-01-13 12:44:38.109000+00:00  D+BwNpkU94N2MPcl  scroll   \n",
       "3           3  2022-01-13 12:44:38.126000+00:00  D+BwNpkU94N2MPcl  scroll   \n",
       "4           4  2022-01-13 12:44:38.143000+00:00  D+BwNpkU94N2MPcl  scroll   \n",
       "\n",
       "   position  \n",
       "0       0.0  \n",
       "1       1.0  \n",
       "2       6.0  \n",
       "3      14.0  \n",
       "4      27.0  "
      ]
     },
     "execution_count": 5,
     "metadata": {},
     "output_type": "execute_result"
    }
   ],
   "source": [
    "df_scroll.head()"
   ]
  },
  {
   "cell_type": "code",
   "execution_count": 6,
   "metadata": {},
   "outputs": [
    {
     "data": {
      "text/html": [
       "<div>\n",
       "<style scoped>\n",
       "    .dataframe tbody tr th:only-of-type {\n",
       "        vertical-align: middle;\n",
       "    }\n",
       "\n",
       "    .dataframe tbody tr th {\n",
       "        vertical-align: top;\n",
       "    }\n",
       "\n",
       "    .dataframe thead th {\n",
       "        text-align: right;\n",
       "    }\n",
       "</style>\n",
       "<table border=\"1\" class=\"dataframe\">\n",
       "  <thead>\n",
       "    <tr style=\"text-align: right;\">\n",
       "      <th></th>\n",
       "      <th>Unnamed: 0</th>\n",
       "      <th>time</th>\n",
       "      <th>token</th>\n",
       "      <th>event</th>\n",
       "      <th>global_position</th>\n",
       "    </tr>\n",
       "  </thead>\n",
       "  <tbody>\n",
       "    <tr>\n",
       "      <th>0</th>\n",
       "      <td>0</td>\n",
       "      <td>2022-01-13 12:44:11.672000+00:00</td>\n",
       "      <td>LbORFcceht0nuUhv</td>\n",
       "      <td>move</td>\n",
       "      <td>[961, 597]</td>\n",
       "    </tr>\n",
       "    <tr>\n",
       "      <th>1</th>\n",
       "      <td>1</td>\n",
       "      <td>2022-01-13 12:44:11.683000+00:00</td>\n",
       "      <td>LbORFcceht0nuUhv</td>\n",
       "      <td>move</td>\n",
       "      <td>[960, 597]</td>\n",
       "    </tr>\n",
       "    <tr>\n",
       "      <th>2</th>\n",
       "      <td>2</td>\n",
       "      <td>2022-01-13 12:44:11.694000+00:00</td>\n",
       "      <td>LbORFcceht0nuUhv</td>\n",
       "      <td>move</td>\n",
       "      <td>[960, 595]</td>\n",
       "    </tr>\n",
       "    <tr>\n",
       "      <th>3</th>\n",
       "      <td>3</td>\n",
       "      <td>2022-01-13 12:44:11.710000+00:00</td>\n",
       "      <td>LbORFcceht0nuUhv</td>\n",
       "      <td>move</td>\n",
       "      <td>[962, 584]</td>\n",
       "    </tr>\n",
       "    <tr>\n",
       "      <th>4</th>\n",
       "      <td>4</td>\n",
       "      <td>2022-01-13 12:44:11.727000+00:00</td>\n",
       "      <td>LbORFcceht0nuUhv</td>\n",
       "      <td>move</td>\n",
       "      <td>[964, 569]</td>\n",
       "    </tr>\n",
       "  </tbody>\n",
       "</table>\n",
       "</div>"
      ],
      "text/plain": [
       "   Unnamed: 0                              time             token event  \\\n",
       "0           0  2022-01-13 12:44:11.672000+00:00  LbORFcceht0nuUhv  move   \n",
       "1           1  2022-01-13 12:44:11.683000+00:00  LbORFcceht0nuUhv  move   \n",
       "2           2  2022-01-13 12:44:11.694000+00:00  LbORFcceht0nuUhv  move   \n",
       "3           3  2022-01-13 12:44:11.710000+00:00  LbORFcceht0nuUhv  move   \n",
       "4           4  2022-01-13 12:44:11.727000+00:00  LbORFcceht0nuUhv  move   \n",
       "\n",
       "  global_position  \n",
       "0      [961, 597]  \n",
       "1      [960, 597]  \n",
       "2      [960, 595]  \n",
       "3      [962, 584]  \n",
       "4      [964, 569]  "
      ]
     },
     "execution_count": 6,
     "metadata": {},
     "output_type": "execute_result"
    }
   ],
   "source": [
    "df_move.head()"
   ]
  },
  {
   "cell_type": "code",
   "execution_count": 7,
   "metadata": {},
   "outputs": [
    {
     "data": {
      "text/html": [
       "<div>\n",
       "<style scoped>\n",
       "    .dataframe tbody tr th:only-of-type {\n",
       "        vertical-align: middle;\n",
       "    }\n",
       "\n",
       "    .dataframe tbody tr th {\n",
       "        vertical-align: top;\n",
       "    }\n",
       "\n",
       "    .dataframe thead th {\n",
       "        text-align: right;\n",
       "    }\n",
       "</style>\n",
       "<table border=\"1\" class=\"dataframe\">\n",
       "  <thead>\n",
       "    <tr style=\"text-align: right;\">\n",
       "      <th></th>\n",
       "      <th>Unnamed: 0</th>\n",
       "      <th>time</th>\n",
       "      <th>token</th>\n",
       "      <th>event</th>\n",
       "      <th>nodeName</th>\n",
       "      <th>nodeType</th>\n",
       "      <th>global_position</th>\n",
       "      <th>local_position</th>\n",
       "      <th>local_dimensions</th>\n",
       "    </tr>\n",
       "  </thead>\n",
       "  <tbody>\n",
       "    <tr>\n",
       "      <th>0</th>\n",
       "      <td>0</td>\n",
       "      <td>2022-01-13 08:54:42.900000+00:00</td>\n",
       "      <td>qCGnlIkLoHHQFGEi</td>\n",
       "      <td>click</td>\n",
       "      <td>BUTTON</td>\n",
       "      <td>NaN</td>\n",
       "      <td>[1139, 359]</td>\n",
       "      <td>[57, 29]</td>\n",
       "      <td>[36, 107]</td>\n",
       "    </tr>\n",
       "    <tr>\n",
       "      <th>1</th>\n",
       "      <td>1</td>\n",
       "      <td>2022-01-13 08:55:06.274000+00:00</td>\n",
       "      <td>qCGnlIkLoHHQFGEi</td>\n",
       "      <td>click</td>\n",
       "      <td>LABEL</td>\n",
       "      <td>NaN</td>\n",
       "      <td>[202, 461]</td>\n",
       "      <td>[76, 9]</td>\n",
       "      <td>[24, 239]</td>\n",
       "    </tr>\n",
       "    <tr>\n",
       "      <th>2</th>\n",
       "      <td>2</td>\n",
       "      <td>2022-01-13 08:55:06.281000+00:00</td>\n",
       "      <td>qCGnlIkLoHHQFGEi</td>\n",
       "      <td>click</td>\n",
       "      <td>INPUT</td>\n",
       "      <td>radio</td>\n",
       "      <td>[202, 461]</td>\n",
       "      <td>[99, 4]</td>\n",
       "      <td>[14, 14]</td>\n",
       "    </tr>\n",
       "    <tr>\n",
       "      <th>3</th>\n",
       "      <td>3</td>\n",
       "      <td>2022-01-13 08:55:35.910000+00:00</td>\n",
       "      <td>qCGnlIkLoHHQFGEi</td>\n",
       "      <td>click</td>\n",
       "      <td>INPUT</td>\n",
       "      <td>radio</td>\n",
       "      <td>[110, 102]</td>\n",
       "      <td>[7, 9]</td>\n",
       "      <td>[14, 14]</td>\n",
       "    </tr>\n",
       "    <tr>\n",
       "      <th>4</th>\n",
       "      <td>4</td>\n",
       "      <td>2022-01-13 08:55:38.045000+00:00</td>\n",
       "      <td>qCGnlIkLoHHQFGEi</td>\n",
       "      <td>click</td>\n",
       "      <td>LABEL</td>\n",
       "      <td>NaN</td>\n",
       "      <td>[284, 131]</td>\n",
       "      <td>[158, 17]</td>\n",
       "      <td>[24, 186]</td>\n",
       "    </tr>\n",
       "  </tbody>\n",
       "</table>\n",
       "</div>"
      ],
      "text/plain": [
       "   Unnamed: 0                              time             token  event  \\\n",
       "0           0  2022-01-13 08:54:42.900000+00:00  qCGnlIkLoHHQFGEi  click   \n",
       "1           1  2022-01-13 08:55:06.274000+00:00  qCGnlIkLoHHQFGEi  click   \n",
       "2           2  2022-01-13 08:55:06.281000+00:00  qCGnlIkLoHHQFGEi  click   \n",
       "3           3  2022-01-13 08:55:35.910000+00:00  qCGnlIkLoHHQFGEi  click   \n",
       "4           4  2022-01-13 08:55:38.045000+00:00  qCGnlIkLoHHQFGEi  click   \n",
       "\n",
       "  nodeName nodeType global_position local_position local_dimensions  \n",
       "0   BUTTON      NaN     [1139, 359]       [57, 29]        [36, 107]  \n",
       "1    LABEL      NaN      [202, 461]        [76, 9]        [24, 239]  \n",
       "2    INPUT    radio      [202, 461]        [99, 4]         [14, 14]  \n",
       "3    INPUT    radio      [110, 102]         [7, 9]         [14, 14]  \n",
       "4    LABEL      NaN      [284, 131]      [158, 17]        [24, 186]  "
      ]
     },
     "execution_count": 7,
     "metadata": {},
     "output_type": "execute_result"
    }
   ],
   "source": [
    "df_click.head()"
   ]
  },
  {
   "cell_type": "markdown",
   "metadata": {},
   "source": [
    "### Columns for each dataset"
   ]
  },
  {
   "cell_type": "code",
   "execution_count": 8,
   "metadata": {},
   "outputs": [
    {
     "name": "stdout",
     "output_type": "stream",
     "text": [
      "Columns available for click data: ['Unnamed: 0', 'time', 'token', 'event', 'nodeName', 'nodeType', 'global_position', 'local_position', 'local_dimensions']\n",
      "Columns available for move data: ['Unnamed: 0', 'time', 'token', 'event', 'global_position']\n",
      "Columns available for scroll data: ['Unnamed: 0', 'time', 'token', 'event', 'position']\n"
     ]
    }
   ],
   "source": [
    "print('Columns available for click data:', list(df_click.columns))\n",
    "print('Columns available for move data:', list(df_move.columns))\n",
    "print('Columns available for scroll data:', list(df_scroll.columns))"
   ]
  },
  {
   "cell_type": "code",
   "execution_count": 9,
   "metadata": {},
   "outputs": [
    {
     "name": "stdout",
     "output_type": "stream",
     "text": [
      "Click Data\n",
      "<class 'pandas.core.frame.DataFrame'>\n",
      "Int64Index: 33732 entries, 0 to 305\n",
      "Data columns (total 9 columns):\n",
      " #   Column            Non-Null Count  Dtype \n",
      "---  ------            --------------  ----- \n",
      " 0   Unnamed: 0        33732 non-null  int64 \n",
      " 1   time              33732 non-null  object\n",
      " 2   token             33732 non-null  object\n",
      " 3   event             33732 non-null  object\n",
      " 4   nodeName          32077 non-null  object\n",
      " 5   nodeType          17565 non-null  object\n",
      " 6   global_position   33732 non-null  object\n",
      " 7   local_position    33732 non-null  object\n",
      " 8   local_dimensions  33732 non-null  object\n",
      "dtypes: int64(1), object(8)\n",
      "memory usage: 2.6+ MB\n",
      "None\n",
      "************************************************************\n",
      "Move Data\n",
      "<class 'pandas.core.frame.DataFrame'>\n",
      "Int64Index: 5313723 entries, 0 to 0\n",
      "Data columns (total 5 columns):\n",
      " #   Column           Dtype \n",
      "---  ------           ----- \n",
      " 0   Unnamed: 0       int64 \n",
      " 1   time             object\n",
      " 2   token            object\n",
      " 3   event            object\n",
      " 4   global_position  object\n",
      "dtypes: int64(1), object(4)\n",
      "memory usage: 243.2+ MB\n",
      "None\n",
      "************************************************************\n",
      "Scroll Data\n",
      "<class 'pandas.core.frame.DataFrame'>\n",
      "Int64Index: 991348 entries, 0 to 5118\n",
      "Data columns (total 5 columns):\n",
      " #   Column      Non-Null Count   Dtype  \n",
      "---  ------      --------------   -----  \n",
      " 0   Unnamed: 0  991348 non-null  int64  \n",
      " 1   time        991348 non-null  object \n",
      " 2   token       991348 non-null  object \n",
      " 3   event       991348 non-null  object \n",
      " 4   position    990530 non-null  float64\n",
      "dtypes: float64(1), int64(1), object(3)\n",
      "memory usage: 45.4+ MB\n",
      "None\n"
     ]
    }
   ],
   "source": [
    "print('Click Data')\n",
    "print(df_click.info())\n",
    "print('**'*30)\n",
    "print('Move Data')\n",
    "print(df_move.info())\n",
    "print('**'*30)\n",
    "print('Scroll Data')\n",
    "print(df_scroll.info())"
   ]
  },
  {
   "cell_type": "code",
   "execution_count": 10,
   "metadata": {},
   "outputs": [
    {
     "name": "stdout",
     "output_type": "stream",
     "text": [
      "Unique users available for click data: 153\n",
      "Unique users available for move data: 156\n",
      "Unique users available for scroll data: 157\n"
     ]
    }
   ],
   "source": [
    "print('Unique users available for click data:',\n",
    "      len(df_click['token'].unique()))\n",
    "print('Unique users available for move data:',\n",
    "      len(df_move['token'].unique()))\n",
    "print('Unique users available for scroll data:',\n",
    "      len(df_scroll['token'].unique()))"
   ]
  },
  {
   "cell_type": "code",
   "execution_count": 11,
   "metadata": {},
   "outputs": [
    {
     "data": {
      "text/plain": [
       "(array(['click'], dtype=object),\n",
       " array(['move'], dtype=object),\n",
       " array(['scroll'], dtype=object))"
      ]
     },
     "execution_count": 11,
     "metadata": {},
     "output_type": "execute_result"
    }
   ],
   "source": [
    "df_click['event'].unique(), df_move['event'].unique(), df_scroll['event'].unique(),"
   ]
  },
  {
   "cell_type": "markdown",
   "metadata": {},
   "source": [
    "# Data cleaning\n",
    "### 1. Change time format to datetime "
   ]
  },
  {
   "cell_type": "code",
   "execution_count": 12,
   "metadata": {},
   "outputs": [
    {
     "name": "stdout",
     "output_type": "stream",
     "text": [
      "<class 'pandas.core.frame.DataFrame'>\n",
      "Int64Index: 33732 entries, 0 to 305\n",
      "Data columns (total 9 columns):\n",
      " #   Column            Non-Null Count  Dtype              \n",
      "---  ------            --------------  -----              \n",
      " 0   Unnamed: 0        33732 non-null  int64              \n",
      " 1   time              33732 non-null  datetime64[ns, UTC]\n",
      " 2   token             33732 non-null  object             \n",
      " 3   event             33732 non-null  object             \n",
      " 4   nodeName          32077 non-null  object             \n",
      " 5   nodeType          17565 non-null  object             \n",
      " 6   global_position   33732 non-null  object             \n",
      " 7   local_position    33732 non-null  object             \n",
      " 8   local_dimensions  33732 non-null  object             \n",
      "dtypes: datetime64[ns, UTC](1), int64(1), object(7)\n",
      "memory usage: 2.6+ MB\n"
     ]
    }
   ],
   "source": [
    "# convert 'time' column from object to datetime64\n",
    "df_click['time'] = pd.to_datetime(df_click['time'])\n",
    "df_move['time'] = pd.to_datetime(df_move['time'])\n",
    "df_scroll['time'] = pd.to_datetime(df_scroll['time'])\n",
    "df_click.info()\n",
    "# https://docs.python.org/3/library/datetime.html#datetime-objects\n",
    "# ---------------------------\n",
    "# TO DO: \n",
    "# * check format for date-time (fromisoformat?)\n",
    "# * might be useful: https://docs.python.org/3/library/datetime.html#datetime-objects (date = parser.parse(value))\n",
    "# ---------------------------"
   ]
  },
  {
   "cell_type": "markdown",
   "metadata": {},
   "source": [
    "### 2. Change position objects to ints"
   ]
  },
  {
   "cell_type": "code",
   "execution_count": 13,
   "metadata": {},
   "outputs": [],
   "source": [
    "def convert_to_int(df, action, column_name):\n",
    "    global_position_x = []\n",
    "    global_position_y = []\n",
    "    for value in df[column_name].values:\n",
    "        t = (re.split('[]\\[,]',value))\n",
    "        global_position_x.append(int(t[1]))\n",
    "        global_position_y.append(int(t[2]))\n",
    "#     global_position = np.array(global_position)\n",
    "    return global_position_x, global_position_y\n",
    "\n",
    "global_position_click = convert_to_int(df_click, 'click', 'global_position')\n",
    "global_position_move = convert_to_int(df_move, 'move', 'global_position')"
   ]
  },
  {
   "cell_type": "code",
   "execution_count": 14,
   "metadata": {},
   "outputs": [],
   "source": [
    "df_click['global_position_x'] = global_position_click[0]\n",
    "df_click['global_position_y'] = global_position_click[1]\n",
    "df_move['global_position_x'] = global_position_move[0]\n",
    "df_move['global_position_y'] = global_position_move[1]"
   ]
  },
  {
   "cell_type": "code",
   "execution_count": 15,
   "metadata": {},
   "outputs": [
    {
     "name": "stdout",
     "output_type": "stream",
     "text": [
      "<class 'pandas.core.frame.DataFrame'>\n",
      "Int64Index: 33732 entries, 0 to 305\n",
      "Data columns (total 11 columns):\n",
      " #   Column             Non-Null Count  Dtype              \n",
      "---  ------             --------------  -----              \n",
      " 0   Unnamed: 0         33732 non-null  int64              \n",
      " 1   time               33732 non-null  datetime64[ns, UTC]\n",
      " 2   token              33732 non-null  object             \n",
      " 3   event              33732 non-null  object             \n",
      " 4   nodeName           32077 non-null  object             \n",
      " 5   nodeType           17565 non-null  object             \n",
      " 6   global_position    33732 non-null  object             \n",
      " 7   local_position     33732 non-null  object             \n",
      " 8   local_dimensions   33732 non-null  object             \n",
      " 9   global_position_x  33732 non-null  int64              \n",
      " 10  global_position_y  33732 non-null  int64              \n",
      "dtypes: datetime64[ns, UTC](1), int64(3), object(7)\n",
      "memory usage: 3.1+ MB\n"
     ]
    }
   ],
   "source": [
    "df_click.info()"
   ]
  },
  {
   "cell_type": "code",
   "execution_count": 16,
   "metadata": {},
   "outputs": [],
   "source": [
    "# def plot_position(df, global_position, action):\n",
    "#     plt.figure(figsize=(10,5))\n",
    "#     plt.plot(global_position[:, 0], global_position[:, 1])\n",
    "#     plt.title('Global Positions of mouse '+action+' for user '+df['token'].unique()[1])\n",
    "#     plt.xlabel('x')\n",
    "#     plt.ylabel('y')\n",
    "#     plt.show()\n",
    "    \n",
    "# plot_position(df_click, np.array(global_position_click), 'click')\n",
    "# plot_position(df_move, np.array(global_position_move), 'move')"
   ]
  },
  {
   "cell_type": "markdown",
   "metadata": {},
   "source": [
    "### 3. Remove unneeded columns and NaN values"
   ]
  },
  {
   "cell_type": "code",
   "execution_count": 17,
   "metadata": {},
   "outputs": [],
   "source": [
    "reduced_click = df_click\n",
    "reduced_click = reduced_click.dropna()\n",
    "reduced_click = reduced_click.drop(columns=['event','nodeName','nodeType','global_position','local_position','local_dimensions','Unnamed: 0'])"
   ]
  },
  {
   "cell_type": "code",
   "execution_count": 18,
   "metadata": {},
   "outputs": [],
   "source": [
    "reduced_move = df_move\n",
    "reduced_move = reduced_move.dropna()\n",
    "reduced_move = reduced_move.drop(columns=['event','global_position','Unnamed: 0'])"
   ]
  },
  {
   "cell_type": "code",
   "execution_count": 19,
   "metadata": {},
   "outputs": [],
   "source": [
    "reduced_scroll = df_scroll\n",
    "reduced_scroll = reduced_scroll.dropna()\n",
    "reduced_scroll = reduced_scroll.drop(columns=['event','Unnamed: 0'])"
   ]
  },
  {
   "cell_type": "code",
   "execution_count": 20,
   "metadata": {},
   "outputs": [
    {
     "name": "stdout",
     "output_type": "stream",
     "text": [
      "<class 'pandas.core.frame.DataFrame'>\n",
      "Int64Index: 17565 entries, 2 to 301\n",
      "Data columns (total 4 columns):\n",
      " #   Column             Non-Null Count  Dtype              \n",
      "---  ------             --------------  -----              \n",
      " 0   time               17565 non-null  datetime64[ns, UTC]\n",
      " 1   token              17565 non-null  object             \n",
      " 2   global_position_x  17565 non-null  int64              \n",
      " 3   global_position_y  17565 non-null  int64              \n",
      "dtypes: datetime64[ns, UTC](1), int64(2), object(1)\n",
      "memory usage: 686.1+ KB\n"
     ]
    }
   ],
   "source": [
    "reduced_click.info()"
   ]
  },
  {
   "cell_type": "markdown",
   "metadata": {},
   "source": [
    "###  4. Get dataframes for each user"
   ]
  },
  {
   "cell_type": "code",
   "execution_count": 21,
   "metadata": {},
   "outputs": [
    {
     "name": "stdout",
     "output_type": "stream",
     "text": [
      "total no. of unique users: 153\n",
      "first unique user: feb7gL7WLgzky43P\n"
     ]
    }
   ],
   "source": [
    "def get_df_for_user(df, user_token):\n",
    "    '''\n",
    "    Function to split dataframes by users\n",
    "    '''\n",
    "    mask = (df['token'].values == user_token)\n",
    "    return df.loc[mask]\n",
    "\n",
    "\n",
    "# save all tokens as a list\n",
    "click_users = list(df_click['token'].unique())\n",
    "move_users = list(df_move['token'].unique())\n",
    "scroll_users = list(df_scroll['token'].unique())\n",
    "\n",
    "# get the users with data in all datasets (taking INTERSECTION) - REVIEW!\n",
    "unique_users = list(set(click_users) & set(move_users) & set(scroll_users))\n",
    "print('total no. of unique users:', len(unique_users))\n",
    "print('first unique user:', unique_users[0])"
   ]
  },
  {
   "cell_type": "code",
   "execution_count": 22,
   "metadata": {},
   "outputs": [],
   "source": [
    "# df_click_1 = get_df_for_user(reduced_click, unique_users[0])\n",
    "# df_move_1 = get_df_for_user(reduced_move, unique_users[0])\n",
    "# df_scroll_1 = get_df_for_user(reduced_scroll, unique_users[0])"
   ]
  },
  {
   "cell_type": "code",
   "execution_count": 23,
   "metadata": {},
   "outputs": [],
   "source": [
    "# !! Uncomment and run to re-save dataframes\n",
    "\n",
    "# iterate thru all users and save the dataframes\n",
    "# for user in unique_users:\n",
    "#     df_click_1 = get_df_for_user(reduced_click, user)\n",
    "#     df_move_1 = get_df_for_user(reduced_move, user)\n",
    "#     df_scroll_1 = get_df_for_user(reduced_scroll, user)\n",
    "    \n",
    "#     df_click_1.to_pickle('DLRV_Dataset/user_df/click/df_click_user_'+user+'.pkl')\n",
    "#     df_move_1.to_pickle('DLRV_Dataset/user_df/move/df_move_user_'+user+'.pkl')\n",
    "#     df_scroll_1.to_pickle('DLRV_Dataset/user_df/scroll/df_scroll_user_'+user+'.pkl')"
   ]
  },
  {
   "cell_type": "code",
   "execution_count": 24,
   "metadata": {},
   "outputs": [],
   "source": [
    "# to read the pickle file for a particular user\n",
    "df_click_user_1 = pd.read_pickle('DLRV_Dataset/user_df/click/df_click_user_017QphxNtGM4GpT9.pkl')\n",
    "df_move_user_1 = pd.read_pickle('DLRV_Dataset/user_df/move/df_move_user_017QphxNtGM4GpT9.pkl')\n",
    "df_scroll_user_1 = pd.read_pickle('DLRV_Dataset/user_df/scroll/df_scroll_user_017QphxNtGM4GpT9.pkl')"
   ]
  },
  {
   "cell_type": "markdown",
   "metadata": {},
   "source": [
    "### 5. Split data into triplets "
   ]
  },
  {
   "cell_type": "code",
   "execution_count": 25,
   "metadata": {},
   "outputs": [],
   "source": [
    "df_click_user_1['dt'] = df_click_user_1['time'].diff()\n",
    "df_click_user_1['dx'] = df_click_user_1['global_position_x'].diff()\n",
    "df_click_user_1['dy'] = df_click_user_1['global_position_y'].diff()\n",
    "\n",
    "df_move_user_1['dt'] = df_move_user_1['time'].diff()\n",
    "df_move_user_1['dx'] = df_move_user_1['global_position_x'].diff()\n",
    "df_move_user_1['dy'] = df_move_user_1['global_position_y'].diff()\n",
    "\n",
    "df_scroll_user_1['dt'] = df_scroll_user_1['time'].diff()"
   ]
  },
  {
   "cell_type": "code",
   "execution_count": 26,
   "metadata": {},
   "outputs": [],
   "source": [
    "# calculating thresholds\n",
    "click_dt_mean_user_1 = df_click_user_1['dt'].mean()\n",
    "click_dt_sd_user_1 = df_click_user_1['dt'].std()\n",
    "threshold_click_user_1 = click_dt_mean_user_1 + click_dt_sd_user_1\n",
    "\n",
    "move_dt_mean_user_1 = df_move_user_1['dt'].mean()\n",
    "move_dt_sd_user_1 = df_move_user_1['dt'].std()\n",
    "threshold_move_user_1 = move_dt_mean_user_1 + click_dt_sd_user_1\n",
    "\n",
    "scroll_dt_mean_user_1 = df_scroll_user_1['dt'].mean()\n",
    "scroll_dt_sd_user_1 = df_scroll_user_1['dt'].std()\n",
    "threshold_scroll_user_1 = scroll_dt_mean_user_1 + click_dt_sd_user_1\n",
    "\n",
    "# keep row only if dt within threshold\n",
    "df_click_user_1 = df_click_user_1[df_click_user_1['dt'] < threshold_click_user_1]\n",
    "df_move_user_1 = df_move_user_1[df_move_user_1['dt'] < threshold_move_user_1]\n",
    "df_scroll_user_1 = df_scroll_user_1[df_scroll_user_1['dt'] < threshold_scroll_user_1]"
   ]
  },
  {
   "cell_type": "code",
   "execution_count": 27,
   "metadata": {},
   "outputs": [
    {
     "data": {
      "text/plain": [
       "[<matplotlib.lines.Line2D at 0x7f7094914df0>]"
      ]
     },
     "execution_count": 27,
     "metadata": {},
     "output_type": "execute_result"
    },
    {
     "data": {
      "image/png": "[encoded data removed]",
      "text/plain": [
       "<Figure size 432x288 with 1 Axes>"
      ]
     },
     "metadata": {
      "needs_background": "light"
     },
     "output_type": "display_data"
    }
   ],
   "source": [
    "plt.plot(df_click_user_1['dx'], df_click_user_1['dy'])"
   ]
  },
  {
   "cell_type": "code",
   "execution_count": 28,
   "metadata": {},
   "outputs": [],
   "source": [
    "# combining everything above in a function\n",
    "\n",
    "user_paths_1 = listdir('DLRV_Dataset/user_df/click')\n",
    "user_paths_2 = listdir('DLRV_Dataset/user_df/move')\n",
    "user_paths_3 = listdir('DLRV_Dataset/user_df/scroll')\n",
    "\n",
    "def create_user_logs(user_paths, action='click'):\n",
    "    for file in user_paths:\n",
    "        try:\n",
    "            df = pd.read_pickle('DLRV_Dataset/user_df/'+action+'/'+file)\n",
    "            \n",
    "            # delta time \n",
    "            df['dt'] = df['time'].diff()\n",
    "\n",
    "            if action != 'scroll':\n",
    "                # delta position\n",
    "                df['dx'] = df['global_position_x'].diff()\n",
    "                df['dy'] = df['global_position_y'].diff()\n",
    "            \n",
    "            # calculate thresholds\n",
    "            dt_mean = df['dt'].mean()\n",
    "            dt_std = df['dt'].std()\n",
    "            threshold = dt_mean + dt_std\n",
    "            \n",
    "            # keep row only if delta t is within threshold\n",
    "            df = df[df['dt'] < threshold]\n",
    "            df.to_pickle('DLRV_Dataset/user_df_final/'+action+'/'+file)\n",
    "        except:\n",
    "            print('not a pickle file')"
   ]
  },
  {
   "cell_type": "code",
   "execution_count": 29,
   "metadata": {},
   "outputs": [
    {
     "data": {
      "text/html": [
       "<div>\n",
       "<style scoped>\n",
       "    .dataframe tbody tr th:only-of-type {\n",
       "        vertical-align: middle;\n",
       "    }\n",
       "\n",
       "    .dataframe tbody tr th {\n",
       "        vertical-align: top;\n",
       "    }\n",
       "\n",
       "    .dataframe thead th {\n",
       "        text-align: right;\n",
       "    }\n",
       "</style>\n",
       "<table border=\"1\" class=\"dataframe\">\n",
       "  <thead>\n",
       "    <tr style=\"text-align: right;\">\n",
       "      <th></th>\n",
       "      <th>time</th>\n",
       "      <th>token</th>\n",
       "      <th>position</th>\n",
       "      <th>dt</th>\n",
       "    </tr>\n",
       "  </thead>\n",
       "  <tbody>\n",
       "    <tr>\n",
       "      <th>1</th>\n",
       "      <td>2022-01-13 12:48:28.585000+00:00</td>\n",
       "      <td>+b5wOQk2TbBc7z+e</td>\n",
       "      <td>1.0</td>\n",
       "      <td>0 days 00:04:21.443000</td>\n",
       "    </tr>\n",
       "    <tr>\n",
       "      <th>2</th>\n",
       "      <td>2022-01-13 12:48:28.609000+00:00</td>\n",
       "      <td>+b5wOQk2TbBc7z+e</td>\n",
       "      <td>4.0</td>\n",
       "      <td>0 days 00:00:00.024000</td>\n",
       "    </tr>\n",
       "    <tr>\n",
       "      <th>3</th>\n",
       "      <td>2022-01-13 12:48:28.626000+00:00</td>\n",
       "      <td>+b5wOQk2TbBc7z+e</td>\n",
       "      <td>10.0</td>\n",
       "      <td>0 days 00:00:00.017000</td>\n",
       "    </tr>\n",
       "    <tr>\n",
       "      <th>4</th>\n",
       "      <td>2022-01-13 12:48:28.643000+00:00</td>\n",
       "      <td>+b5wOQk2TbBc7z+e</td>\n",
       "      <td>14.0</td>\n",
       "      <td>0 days 00:00:00.017000</td>\n",
       "    </tr>\n",
       "    <tr>\n",
       "      <th>5</th>\n",
       "      <td>2022-01-13 12:48:28.658000+00:00</td>\n",
       "      <td>+b5wOQk2TbBc7z+e</td>\n",
       "      <td>19.0</td>\n",
       "      <td>0 days 00:00:00.015000</td>\n",
       "    </tr>\n",
       "  </tbody>\n",
       "</table>\n",
       "</div>"
      ],
      "text/plain": [
       "                              time             token  position  \\\n",
       "1 2022-01-13 12:48:28.585000+00:00  +b5wOQk2TbBc7z+e       1.0   \n",
       "2 2022-01-13 12:48:28.609000+00:00  +b5wOQk2TbBc7z+e       4.0   \n",
       "3 2022-01-13 12:48:28.626000+00:00  +b5wOQk2TbBc7z+e      10.0   \n",
       "4 2022-01-13 12:48:28.643000+00:00  +b5wOQk2TbBc7z+e      14.0   \n",
       "5 2022-01-13 12:48:28.658000+00:00  +b5wOQk2TbBc7z+e      19.0   \n",
       "\n",
       "                      dt  \n",
       "1 0 days 00:04:21.443000  \n",
       "2 0 days 00:00:00.024000  \n",
       "3 0 days 00:00:00.017000  \n",
       "4 0 days 00:00:00.017000  \n",
       "5 0 days 00:00:00.015000  "
      ]
     },
     "execution_count": 29,
     "metadata": {},
     "output_type": "execute_result"
    }
   ],
   "source": [
    "aaa = pd.read_pickle('DLRV_Dataset/user_df_final/scroll/df_scroll_user_+b5wOQk2TbBc7z+e.pkl')\n",
    "aaa.head()"
   ]
  },
  {
   "cell_type": "code",
   "execution_count": 30,
   "metadata": {},
   "outputs": [],
   "source": [
    "# !! Uncomment and run to re-create pickle files\n",
    "# create_user_logs(user_paths_1, 'click')\n",
    "# create_user_logs(user_paths_2, 'move')\n",
    "# create_user_logs(user_paths_3, 'scroll')"
   ]
  },
  {
   "cell_type": "code",
   "execution_count": 31,
   "metadata": {},
   "outputs": [
    {
     "data": {
      "text/html": [
       "<div>\n",
       "<style scoped>\n",
       "    .dataframe tbody tr th:only-of-type {\n",
       "        vertical-align: middle;\n",
       "    }\n",
       "\n",
       "    .dataframe tbody tr th {\n",
       "        vertical-align: top;\n",
       "    }\n",
       "\n",
       "    .dataframe thead th {\n",
       "        text-align: right;\n",
       "    }\n",
       "</style>\n",
       "<table border=\"1\" class=\"dataframe\">\n",
       "  <thead>\n",
       "    <tr style=\"text-align: right;\">\n",
       "      <th></th>\n",
       "      <th>Unnamed: 0</th>\n",
       "      <th>length_click_values</th>\n",
       "      <th>length_move_values</th>\n",
       "      <th>length_scroll_values</th>\n",
       "    </tr>\n",
       "  </thead>\n",
       "  <tbody>\n",
       "    <tr>\n",
       "      <th>0</th>\n",
       "      <td>QMbcYfHpUIEyeJ5k</td>\n",
       "      <td>284</td>\n",
       "      <td>98846</td>\n",
       "      <td>24748</td>\n",
       "    </tr>\n",
       "    <tr>\n",
       "      <th>1</th>\n",
       "      <td>4Skle0ZKSXgpaLKQ</td>\n",
       "      <td>229</td>\n",
       "      <td>88845</td>\n",
       "      <td>6110</td>\n",
       "    </tr>\n",
       "    <tr>\n",
       "      <th>2</th>\n",
       "      <td>gMfyWyLNzQ+xucY1</td>\n",
       "      <td>2</td>\n",
       "      <td>2311</td>\n",
       "      <td>1153</td>\n",
       "    </tr>\n",
       "    <tr>\n",
       "      <th>3</th>\n",
       "      <td>gdHoIJg5LC37T9Bq</td>\n",
       "      <td>164</td>\n",
       "      <td>47447</td>\n",
       "      <td>7988</td>\n",
       "    </tr>\n",
       "    <tr>\n",
       "      <th>4</th>\n",
       "      <td>9SwnyFK7iNUdU6jG</td>\n",
       "      <td>0</td>\n",
       "      <td>1295</td>\n",
       "      <td>433</td>\n",
       "    </tr>\n",
       "    <tr>\n",
       "      <th>...</th>\n",
       "      <td>...</td>\n",
       "      <td>...</td>\n",
       "      <td>...</td>\n",
       "      <td>...</td>\n",
       "    </tr>\n",
       "    <tr>\n",
       "      <th>148</th>\n",
       "      <td>k4kFNlmW8E1cKP4w</td>\n",
       "      <td>2</td>\n",
       "      <td>4</td>\n",
       "      <td>1428</td>\n",
       "    </tr>\n",
       "    <tr>\n",
       "      <th>149</th>\n",
       "      <td>D+DdutLJFU2PCt+R</td>\n",
       "      <td>99</td>\n",
       "      <td>10538</td>\n",
       "      <td>6350</td>\n",
       "    </tr>\n",
       "    <tr>\n",
       "      <th>150</th>\n",
       "      <td>604OCjtkvTGI9lHv</td>\n",
       "      <td>32</td>\n",
       "      <td>8806</td>\n",
       "      <td>2269</td>\n",
       "    </tr>\n",
       "    <tr>\n",
       "      <th>151</th>\n",
       "      <td>cAWr2gEJudestP+s</td>\n",
       "      <td>182</td>\n",
       "      <td>47218</td>\n",
       "      <td>8681</td>\n",
       "    </tr>\n",
       "    <tr>\n",
       "      <th>152</th>\n",
       "      <td>dbVuR4NTQYU8bWeP</td>\n",
       "      <td>221</td>\n",
       "      <td>122650</td>\n",
       "      <td>9981</td>\n",
       "    </tr>\n",
       "  </tbody>\n",
       "</table>\n",
       "<p>153 rows × 4 columns</p>\n",
       "</div>"
      ],
      "text/plain": [
       "           Unnamed: 0  length_click_values  length_move_values  \\\n",
       "0    QMbcYfHpUIEyeJ5k                  284               98846   \n",
       "1    4Skle0ZKSXgpaLKQ                  229               88845   \n",
       "2    gMfyWyLNzQ+xucY1                    2                2311   \n",
       "3    gdHoIJg5LC37T9Bq                  164               47447   \n",
       "4    9SwnyFK7iNUdU6jG                    0                1295   \n",
       "..                ...                  ...                 ...   \n",
       "148  k4kFNlmW8E1cKP4w                    2                   4   \n",
       "149  D+DdutLJFU2PCt+R                   99               10538   \n",
       "150  604OCjtkvTGI9lHv                   32                8806   \n",
       "151  cAWr2gEJudestP+s                  182               47218   \n",
       "152  dbVuR4NTQYU8bWeP                  221              122650   \n",
       "\n",
       "     length_scroll_values  \n",
       "0                   24748  \n",
       "1                    6110  \n",
       "2                    1153  \n",
       "3                    7988  \n",
       "4                     433  \n",
       "..                    ...  \n",
       "148                  1428  \n",
       "149                  6350  \n",
       "150                  2269  \n",
       "151                  8681  \n",
       "152                  9981  \n",
       "\n",
       "[153 rows x 4 columns]"
      ]
     },
     "execution_count": 31,
     "metadata": {},
     "output_type": "execute_result"
    }
   ],
   "source": [
    "# View available no. of datapoints for each user for each action\n",
    "pd.read_csv('user_log_files_meta_data.csv')"
   ]
  },
  {
   "cell_type": "markdown",
   "metadata": {},
   "source": [
    " ### 6. Normalise position data"
   ]
  },
  {
   "cell_type": "code",
   "execution_count": 32,
   "metadata": {},
   "outputs": [],
   "source": [
    "# option: \n",
    "# 1. https://scikit-learn.org/stable/modules/generated/sklearn.preprocessing.StandardScaler.html"
   ]
  },
  {
   "cell_type": "code",
   "execution_count": 78,
   "metadata": {},
   "outputs": [],
   "source": [
    "# Define paths where the source data are\n",
    "user_paths_1 = listdir('DLRV_Dataset/user_df_final/click')\n",
    "user_paths_2 = listdir('DLRV_Dataset/user_df_final/move')\n",
    "user_paths_3 = listdir('DLRV_Dataset/user_df_final/scroll')\n",
    "\n",
    "def normalize(user_paths, action):\n",
    "    for file in user_paths:\n",
    "        if action == 'scroll':\n",
    "            try:\n",
    "                # Load the data frame\n",
    "                df = pd.read_pickle('DLRV_Dataset/user_df_final/'+action+'/'+file)\n",
    "\n",
    "                # Normalize the position values for scroll\n",
    "                std = np.std(df['position'])\n",
    "                mean = np.mean(df['position'])\n",
    "                df['position'] = (df['position'] - mean) / std\n",
    "\n",
    "                # Save the data frames to new pickle files, to a new location. Manually create the new folders!\n",
    "                df.to_pickle('DLRV_Dataset/user_df_final_normalized/'+action+'/'+file)\n",
    "\n",
    "            except:\n",
    "                print('Scroll error')\n",
    "        else:\n",
    "            try:\n",
    "                # Load the data frame\n",
    "                df = pd.read_pickle('DLRV_Dataset/user_df_final/'+action+'/'+file)\n",
    "                \n",
    "                # Normalize the dx values\n",
    "                std = np.std(df['dx'])\n",
    "                mean = np.mean(df['dx'])\n",
    "                df['dx'] = (df['dx'] - mean) / std\n",
    "\n",
    "                # Normalize the dy values\n",
    "                std = np.std(df['dy'])\n",
    "                mean = np.mean(df['dy'])\n",
    "                df['dy'] = (df['dy'] - mean) / std\n",
    "\n",
    "                # Save the data frames to new pickle files, to a new location. Manually create the new folders!\n",
    "                df.to_pickle('DLRV_Dataset/user_df_final_normalized/'+action+'/'+file)\n",
    "                \n",
    "            except:\n",
    "                print('Issue with the normalization. (Probably with the saving. Create the folders manually!')\n"
   ]
  },
  {
   "cell_type": "code",
   "execution_count": 79,
   "metadata": {},
   "outputs": [],
   "source": [
    "# TODO: Should we normalize dt or not?\n",
    "normalize(user_paths_1, 'click')\n",
    "normalize(user_paths_2, 'move')\n",
    "normalize(user_paths_3, 'scroll')"
   ]
  }
 ],
 "metadata": {
  "kernelspec": {
   "display_name": "Python 3",
   "language": "python",
   "name": "python3"
  },
  "language_info": {
   "codemirror_mode": {
    "name": "ipython",
    "version": 3
   },
   "file_extension": ".py",
   "mimetype": "text/x-python",
   "name": "python",
   "nbconvert_exporter": "python",
   "pygments_lexer": "ipython3",
   "version": "3.8.10"
  },
  "vscode": {
   "interpreter": {
    "hash": "1b15b47e994a45b2c1c9c2019b348cb81bbb68780db9285c808c045d049d064a"
   }
  }
 },
 "nbformat": 4,
 "nbformat_minor": 4
}
